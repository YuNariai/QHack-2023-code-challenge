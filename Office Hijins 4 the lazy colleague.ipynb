{
 "cells": [
  {
   "cell_type": "code",
   "execution_count": 4,
   "id": "c454c8f4-8b88-436c-8af0-72e453da349d",
   "metadata": {},
   "outputs": [],
   "source": [
    "import json\n",
    "import pennylane as qml\n",
    "import pennylane.numpy as np\n",
    "\n",
    "dev = qml.device(\"default.qubit\", wires=[\"e1\", \"e2\", \"e3\", \"e4\", \"result\"], shots=1)\n",
    "\n",
    "dev.operations.add(\"op\")\n",
    "\n",
    "wires = [\"e1\", \"e2\", \"e3\", \"e4\", \"result\"]\n",
    "\n",
    "\n",
    "@qml.qnode(dev)\n",
    "def circuit():\n",
    "    \"\"\"This is the circuit we will use to detect which is the lazy worker. Remember \n",
    "    that we will only execute one shot.\n",
    "\n",
    "    Args:\n",
    "        project_execution (qml.ops): \n",
    "            The gate in charge of marking in the last qubit if the project has been finished\n",
    "            as indicated in the statement.\n",
    "\n",
    "    Returns:\n",
    "        (numpy.tensor): Measurement output in the 5 qubits after a shot.\n",
    "    \"\"\"\n",
    "    # Put your code here #\n",
    "    \n",
    "    s_state = [0.]*16\n",
    "    s_state[14]=1.\n",
    "    s_state[13]=1.\n",
    "    s_state[11]=1.\n",
    "    s_state[7]=1.\n",
    "    s = np.array(s_state)/2\n",
    "    \n",
    "    U_s = np.outer(s,s)*2 - np.identity(16)\n",
    "    \n",
    "    qml.QubitStateVector(s, wires=[\"e1\", \"e2\", \"e3\", \"e4\"])\n",
    "    \n",
    "    qml.PauliX(\"result\")\n",
    "    qml.Hadamard(\"result\")\n",
    "    \n",
    "    \n",
    "    \n",
    "    #project_execution(wires=wires)\n",
    "    qml.MultiControlledX(['e3', 'e2', 'e4'],\"result\")\n",
    "\n",
    "    # Put your code here #\n",
    "    qml.Hadamard(\"result\")\n",
    "    \n",
    "    qml.QubitUnitary(U_s, wires=[\"e1\", \"e2\", \"e3\", \"e4\"])\n",
    "        \n",
    "        \n",
    "    return qml.sample(wires=dev.wires)\n",
    "\n",
    "def process_output(measurement):\n",
    "    \"\"\"This function will take the circuit measurement and process it to determine who is the lazy worker.\n",
    "\n",
    "    Args:\n",
    "        measurement (numpy.tensor): Measurement output in the 5 qubits after a shot.\n",
    "\n",
    "    Returns:\n",
    "        (str): This function must return \"e1\", \"e2\" \"e3\" or \"e4\" - the lazy worker.\n",
    "    \"\"\"\n",
    "    # Put your code here #\n",
    "    for i in range(4):\n",
    "        if measurement[i] ==0:\n",
    "            return dev.wires[i]\n",
    "\n",
    "\n"
   ]
  },
  {
   "cell_type": "code",
   "execution_count": 5,
   "id": "d27d7621-6b79-46b6-9793-1c4bccf2790f",
   "metadata": {},
   "outputs": [
    {
     "data": {
      "text/plain": [
       "tensor([0, 1, 1, 1, 1], requires_grad=True)"
      ]
     },
     "execution_count": 5,
     "metadata": {},
     "output_type": "execute_result"
    }
   ],
   "source": [
    "circuit()"
   ]
  },
  {
   "cell_type": "code",
   "execution_count": 3,
   "id": "35102376-b53b-4276-afe9-1f3b8e4f121c",
   "metadata": {},
   "outputs": [
    {
     "name": "stdout",
     "output_type": "stream",
     "text": [
      "Running test case 0 with input 'No input'...\n"
     ]
    },
    {
     "ename": "TypeError",
     "evalue": "'NoneType' object is not subscriptable",
     "output_type": "error",
     "traceback": [
      "\u001b[0;31m---------------------------------------------------------------------------\u001b[0m",
      "\u001b[0;31mTypeError\u001b[0m                                 Traceback (most recent call last)",
      "\u001b[0;32m/tmp/ipykernel_51/2155871322.py\u001b[0m in \u001b[0;36m<cell line: 54>\u001b[0;34m()\u001b[0m\n\u001b[1;32m     62\u001b[0m \u001b[0;34m\u001b[0m\u001b[0m\n\u001b[1;32m     63\u001b[0m     \u001b[0;32melse\u001b[0m\u001b[0;34m:\u001b[0m\u001b[0;34m\u001b[0m\u001b[0;34m\u001b[0m\u001b[0m\n\u001b[0;32m---> 64\u001b[0;31m         \u001b[0;32mif\u001b[0m \u001b[0mmessage\u001b[0m \u001b[0;34m:=\u001b[0m \u001b[0mcheck\u001b[0m\u001b[0;34m(\u001b[0m\u001b[0moutput\u001b[0m\u001b[0;34m,\u001b[0m \u001b[0mexpected_output\u001b[0m\u001b[0;34m)\u001b[0m\u001b[0;34m:\u001b[0m\u001b[0;34m\u001b[0m\u001b[0;34m\u001b[0m\u001b[0m\n\u001b[0m\u001b[1;32m     65\u001b[0m             \u001b[0mprint\u001b[0m\u001b[0;34m(\u001b[0m\u001b[0;34mf\"Wrong Answer. Have: '{output}'. Want: '{expected_output}'.\"\u001b[0m\u001b[0;34m)\u001b[0m\u001b[0;34m\u001b[0m\u001b[0;34m\u001b[0m\u001b[0m\n\u001b[1;32m     66\u001b[0m \u001b[0;34m\u001b[0m\u001b[0m\n",
      "\u001b[0;32m/tmp/ipykernel_51/2155871322.py\u001b[0m in \u001b[0;36mcheck\u001b[0;34m(solution_output, expected_output)\u001b[0m\n\u001b[1;32m     40\u001b[0m         \u001b[0mout\u001b[0m \u001b[0;34m=\u001b[0m \u001b[0mcircuit\u001b[0m\u001b[0;34m(\u001b[0m\u001b[0mproject_execution\u001b[0m\u001b[0;34m)\u001b[0m\u001b[0;34m\u001b[0m\u001b[0;34m\u001b[0m\u001b[0m\n\u001b[1;32m     41\u001b[0m         \u001b[0msolutions\u001b[0m\u001b[0;34m.\u001b[0m\u001b[0mappend\u001b[0m\u001b[0;34m(\u001b[0m\u001b[0mlazy\u001b[0m \u001b[0;34m+\u001b[0m \u001b[0;36m1\u001b[0m\u001b[0;34m)\u001b[0m\u001b[0;34m\u001b[0m\u001b[0;34m\u001b[0m\u001b[0m\n\u001b[0;32m---> 42\u001b[0;31m         \u001b[0moutput\u001b[0m\u001b[0;34m.\u001b[0m\u001b[0mappend\u001b[0m\u001b[0;34m(\u001b[0m\u001b[0mint\u001b[0m\u001b[0;34m(\u001b[0m\u001b[0mprocess_output\u001b[0m\u001b[0;34m(\u001b[0m\u001b[0mout\u001b[0m\u001b[0;34m)\u001b[0m\u001b[0;34m[\u001b[0m\u001b[0;34m-\u001b[0m\u001b[0;36m1\u001b[0m\u001b[0;34m]\u001b[0m\u001b[0;34m)\u001b[0m\u001b[0;34m)\u001b[0m\u001b[0;34m\u001b[0m\u001b[0;34m\u001b[0m\u001b[0m\n\u001b[0m\u001b[1;32m     43\u001b[0m \u001b[0;34m\u001b[0m\u001b[0m\n\u001b[1;32m     44\u001b[0m     assert np.allclose(\n",
      "\u001b[0;31mTypeError\u001b[0m: 'NoneType' object is not subscriptable"
     ]
    }
   ],
   "source": [
    "# These functions are responsible for testing the solution.\n",
    "\n",
    "def run(test_case_input: str) -> str:\n",
    "    return None\n",
    "\n",
    "def check(solution_output: str, expected_output: str) -> None:\n",
    "    samples = 5000\n",
    "\n",
    "    solutions = []\n",
    "    output = []\n",
    "\n",
    "    for s in range(samples):\n",
    "        lazy = np.random.randint(0, 4)\n",
    "        no_lazy = list(range(4))\n",
    "        no_lazy.pop(lazy)\n",
    "\n",
    "        def project_execution(wires):\n",
    "            class op(qml.operation.Operator):\n",
    "                num_wires = 5\n",
    "\n",
    "                def compute_decomposition(self, wires):\n",
    "                    raise ValueError(\"You cant descompose this gate\")\n",
    "\n",
    "                def matrix(self):\n",
    "                    m = np.zeros([32, 32])\n",
    "                    for i in range(32):\n",
    "                        b = [int(j) for j in bin(64 + i)[-5:]]\n",
    "                        if sum(np.array(b)[no_lazy]) == 3:\n",
    "                            if b[-1] == 0:\n",
    "                                m[i, i + 1] = 1\n",
    "                            else:\n",
    "                                m[i, i - 1] = 1\n",
    "                        else:\n",
    "                            m[i, i] = 1\n",
    "                    return m\n",
    "\n",
    "            op(wires=wires)\n",
    "            return None\n",
    "\n",
    "        out = circuit(project_execution)\n",
    "        solutions.append(lazy + 1)\n",
    "        output.append(int(process_output(out)[-1]))\n",
    "\n",
    "    assert np.allclose(\n",
    "        output, solutions, rtol=1e-4\n",
    "    ), \"Your circuit does not give the correct output.\"\n",
    "\n",
    "    ops = [op.name for op in circuit.tape.operations]\n",
    "    assert ops.count(\"op\") == 1, \"You have used the oracle more than one time.\"\n",
    "\n",
    "\n",
    "test_cases = [['No input', 'No output']]\n",
    "\n",
    "for i, (input_, expected_output) in enumerate(test_cases):\n",
    "    print(f\"Running test case {i} with input '{input_}'...\")\n",
    "\n",
    "    try:\n",
    "        output = run(input_)\n",
    "\n",
    "    except Exception as exc:\n",
    "        print(f\"Runtime Error. {exc}\")\n",
    "\n",
    "    else:\n",
    "        if message := check(output, expected_output):\n",
    "            print(f\"Wrong Answer. Have: '{output}'. Want: '{expected_output}'.\")\n",
    "\n",
    "        else:\n",
    "            print(\"Correct!\")"
   ]
  },
  {
   "cell_type": "code",
   "execution_count": 1,
   "id": "07b8557a-533c-44bd-aa49-3bab23dba781",
   "metadata": {},
   "outputs": [
    {
     "data": {
      "text/plain": [
       "[0, 0, 0, 0, 0, 0, 0, 1, 0, 0, 0, 1, 0, 1, 1, 0]"
      ]
     },
     "execution_count": 1,
     "metadata": {},
     "output_type": "execute_result"
    }
   ],
   "source": [
    "s_state = [0]*16\n",
    "s_state[14]=1\n",
    "s_state[13]=1\n",
    "s_state[11]=1\n",
    "s_state[7]=1\n",
    "s_state"
   ]
  },
  {
   "cell_type": "code",
   "execution_count": null,
   "id": "d62bb715-b3dd-4b1d-ab22-d1ec140aee18",
   "metadata": {},
   "outputs": [],
   "source": []
  }
 ],
 "metadata": {
  "kernelspec": {
   "display_name": "PennyLane",
   "language": "python",
   "name": "pennylane"
  },
  "language_info": {
   "codemirror_mode": {
    "name": "ipython",
    "version": 3
   },
   "file_extension": ".py",
   "mimetype": "text/x-python",
   "name": "python",
   "nbconvert_exporter": "python",
   "pygments_lexer": "ipython3",
   "version": "3.9.15"
  }
 },
 "nbformat": 4,
 "nbformat_minor": 5
}

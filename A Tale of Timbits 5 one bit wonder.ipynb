{
 "cells": [
  {
   "cell_type": "code",
   "execution_count": 18,
   "id": "bc741770-e097-4040-b589-0f5b4ff857f8",
   "metadata": {},
   "outputs": [],
   "source": [
    "import json\n",
    "import pennylane as qml\n",
    "import pennylane.numpy as np\n",
    "import scipy\n",
    "\n",
    "U_NP = [[1, 0, 0, 0], [0, 0, 0, 1], [0, 1, 0, 0], [0, 0, 1, 0]]\n",
    "\n",
    "def calculate_timbit(U, rho_0, rho, n_iters):\n",
    "    \"\"\"\n",
    "    This function will return a timbit associated to the operator U and a state passed as an attribute.\n",
    "\n",
    "    Args:\n",
    "        U (numpy.tensor): A 2-qubit gate in matrix form.\n",
    "        rho_0 (numpy.tensor): The matrix of the input density matrix.\n",
    "        rho (numpy.tensor): A guess at the fixed point C[rho] = rho.\n",
    "        n_iters (int): The number of iterations of C.\n",
    "\n",
    "    Returns:\n",
    "        (tuple(numpy.tensor)): The fixed point density matrices.\n",
    "    \"\"\"\n",
    "\n",
    "    \n",
    "    # Put your code here #\n",
    "    dev = qml.device(\"default.mixed\", wires=n_iters+1)\n",
    "    @qml.qnode(dev)\n",
    "    def circuit():\n",
    "        qml.QubitDensityMatrix(rho, wires=n_iters)\n",
    "        \n",
    "        for i in range(n_iters):\n",
    "            qml.QubitDensityMatrix(rho_0, wires=i)\n",
    "            \n",
    "        for ii in range(n_iters):    \n",
    "            qml.QubitUnitary(U, wires=[ii,n_iters])\n",
    "    \n",
    "        return qml.density_matrix(wires=n_iters)    \n",
    "    return circuit()\n",
    "    \n",
    "        \n",
    "\n",
    "\n",
    "def apply_timbit_gate(U, rho_0, timbit):\n",
    "    \"\"\"\n",
    "    Function that returns the output density matrix after applying a timbit gate to a state.\n",
    "    The density matrix is the one associated with the first qubit.\n",
    "\n",
    "    Args:\n",
    "        U (numpy.tensor): A 2-qubit gate in matrix form.\n",
    "        rho_0 (numpy.tensor): The matrix of the input density matrix.\n",
    "        timbit (numpy.tensor): The timbit associated with the operator and the state.\n",
    "\n",
    "    Returns:\n",
    "        (tuple(numpy.tensor)): The output density matrices.\n",
    "    \"\"\"\n",
    "\n",
    "\n",
    "    # Put your code here #\n",
    "    \n",
    "    dev = qml.device(\"default.mixed\", wires=2)\n",
    "    @qml.qnode(dev)\n",
    "    def circuit():\n",
    "        qml.QubitDensityMatrix(rho_0, wires=0)\n",
    "        qml.QubitDensityMatrix(timbit, wires=1)\n",
    "        qml.QubitUnitary(U, wires=[0,1])\n",
    "    \n",
    "        return qml.density_matrix(wires=0)\n",
    "    return circuit()\n",
    "    \n",
    "    \n",
    "\n",
    "\n",
    "def SAT(U_f, q, rho, n_bits):\n",
    "    \"\"\"A timbit-based algorithm used to guess if a Boolean function ever outputs 1.\n",
    "\n",
    "    Args:\n",
    "        U_f (numpy.tensor): A multi-qubit gate in matrix form.\n",
    "        q (int): Number of times we apply the Timbit gate.\n",
    "        rho (numpy.tensor): An initial guess at the fixed point C[rho] = rho.\n",
    "        n_bits (int): The number of bits the Boolean function is defined on.\n",
    "\n",
    "    Returns:\n",
    "        numpy.tensor: The measurement probabilities on the last wire.\n",
    "    \"\"\"\n",
    "\n",
    "\n",
    "    # Put your code here #\n",
    "    \n",
    "    dev = qml.device(\"default.mixed\", wires=n_bits)\n",
    "    @qml.qnode(dev)\n",
    "    def rho0_circuit():\n",
    "        for i in range(n_bits-1):\n",
    "            qml.Hadamard(i)\n",
    "        qml.QubitUnitary(U_f, wires=list(range(n_bits)))\n",
    "    \n",
    "        return qml.density_matrix(wires=n_bits-1)\n",
    "    \n",
    "    rho_0 = rho0_circuit()\n",
    "    for i in range(q):\n",
    "        timbit = calculate_timbit(U_NP, rho_0, rho, 3)\n",
    "        rho_0 = apply_timbit_gate(U_NP, rho_0, timbit)\n",
    "    \n",
    "      \n",
    "    return np.array([rho_0[0][0],rho_0[1][1]]).real.tolist()\n",
    "\n",
    "\n",
    "\n"
   ]
  },
  {
   "cell_type": "code",
   "execution_count": 20,
   "id": "75e7d5c3-932b-4ac3-89ea-625917ede43c",
   "metadata": {},
   "outputs": [
    {
     "data": {
      "text/plain": [
       "'[0.6582031249999952, 0.34179687499999756]'"
      ]
     },
     "execution_count": 20,
     "metadata": {},
     "output_type": "execute_result"
    }
   ],
   "source": [
    "I = np.eye(2)\n",
    "X = qml.matrix(qml.PauliX(0))\n",
    "U_f = scipy.linalg.block_diag(I, X, I, I, I, I, I, I)\n",
    "rho = [[0.6+0.j , 0.1-0.1j],[0.1+0.1j, 0.4+0.j]]\n",
    "rho_0 = [[0.6+0.j , 0.1-0.1j],[0.1+0.1j, 0.4+0.j]]\n",
    "q = 2\n",
    "\n",
    "'''\n",
    "n_bits=4\n",
    "dev = qml.device(\"default.mixed\", wires=n_bits)\n",
    "@qml.qnode(dev)\n",
    "def rho0_circuit():\n",
    "    for i in range(n_bits-1):\n",
    "        qml.Hadamard(i)\n",
    "    qml.QubitUnitary(U_f, wires=list(range(n_bits)))\n",
    "    \n",
    "    return qml.density_matrix(wires=n_bits-1)\n",
    "    \n",
    "rho_0 = rho0_circuit()\n",
    "timbit=calculate_timbit(U_NP, rho_0, rho, 3)\n",
    "\n",
    "dev1 = qml.device(\"default.mixed\", wires=1+n_bits)\n",
    "@qml.qnode(dev1)\n",
    "def circuit():\n",
    "    qml.QubitDensityMatrix(timbit, wires=n_bits)\n",
    "    for i in range(n_bits-1):\n",
    "        qml.Hadamard(i)\n",
    "    qml.QubitUnitary(U_f, wires=list(range(n_bits)))\n",
    "    \n",
    "    qml.QubitUnitary(U_NP, wires=[n_bits-1, n_bits])\n",
    "    \n",
    "    \n",
    "    return qml.density_matrix(wires=n_bits-1)\n",
    "rhof= circuit()\n",
    "\n",
    "print(rhof)\n",
    "'''\n",
    "str(SAT(U_f, q, rho,4))"
   ]
  },
  {
   "cell_type": "code",
   "execution_count": 17,
   "id": "8ad8501e-dc44-4e12-9b1a-00b13ba86943",
   "metadata": {},
   "outputs": [
    {
     "data": {
      "text/plain": [
       "array([[0.7109375+0.j, 0.       +0.j],\n",
       "       [0.       +0.j, 0.2890625+0.j]])"
      ]
     },
     "execution_count": 17,
     "metadata": {},
     "output_type": "execute_result"
    }
   ],
   "source": [
    "rho_0 = np.array([[0.875+0.j, 0.   +0.j], [0.   +0.j, 0.125+0.j]])\n",
    "timbit = np.array([[0.875+0.j, 0.   +0.j], [0.   +0.j, 0.125+0.j]])\n",
    "rho_1 = np.array([[0.78125+0.j, 0.     +0.j],\n",
    "       [0.     +0.j, 0.21875+0.j]])\n",
    "dev = qml.device(\"default.mixed\", wires=2)\n",
    "@qml.qnode(dev)\n",
    "def circuitq():\n",
    "    qml.QubitDensityMatrix(rho_1, wires=0)\n",
    "    qml.QubitDensityMatrix(timbit, wires=1)\n",
    "    qml.QubitUnitary(U_NP, wires=[0,1])\n",
    "    \n",
    "    return qml.density_matrix(wires=0)\n",
    "\n",
    "rho2=circuitq()\n",
    "rho2"
   ]
  },
  {
   "cell_type": "code",
   "execution_count": 16,
   "id": "00232807-fa21-48d2-af30-a631f8049c36",
   "metadata": {},
   "outputs": [
    {
     "name": "stdout",
     "output_type": "stream",
     "text": [
      "Running test case 0 with input '1'...\n",
      "Correct!\n",
      "Running test case 1 with input '2'...\n"
     ]
    },
    {
     "ename": "AssertionError",
     "evalue": "Your NP-solving timbit computer isn't quite right yet!",
     "output_type": "error",
     "traceback": [
      "\u001b[0;31m---------------------------------------------------------------------------\u001b[0m",
      "\u001b[0;31mAssertionError\u001b[0m                            Traceback (most recent call last)",
      "\u001b[0;32m/tmp/ipykernel_148/684274750.py\u001b[0m in \u001b[0;36m<cell line: 30>\u001b[0;34m()\u001b[0m\n\u001b[1;32m     38\u001b[0m \u001b[0;34m\u001b[0m\u001b[0m\n\u001b[1;32m     39\u001b[0m     \u001b[0;32melse\u001b[0m\u001b[0;34m:\u001b[0m\u001b[0;34m\u001b[0m\u001b[0;34m\u001b[0m\u001b[0m\n\u001b[0;32m---> 40\u001b[0;31m         \u001b[0;32mif\u001b[0m \u001b[0mmessage\u001b[0m \u001b[0;34m:=\u001b[0m \u001b[0mcheck\u001b[0m\u001b[0;34m(\u001b[0m\u001b[0moutput\u001b[0m\u001b[0;34m,\u001b[0m \u001b[0mexpected_output\u001b[0m\u001b[0;34m)\u001b[0m\u001b[0;34m:\u001b[0m\u001b[0;34m\u001b[0m\u001b[0;34m\u001b[0m\u001b[0m\n\u001b[0m\u001b[1;32m     41\u001b[0m             \u001b[0mprint\u001b[0m\u001b[0;34m(\u001b[0m\u001b[0;34mf\"Wrong Answer. Have: '{output}'. Want: '{expected_output}'.\"\u001b[0m\u001b[0;34m)\u001b[0m\u001b[0;34m\u001b[0m\u001b[0;34m\u001b[0m\u001b[0m\n\u001b[1;32m     42\u001b[0m \u001b[0;34m\u001b[0m\u001b[0m\n",
      "\u001b[0;32m/tmp/ipykernel_148/684274750.py\u001b[0m in \u001b[0;36mcheck\u001b[0;34m(solution_output, expected_output)\u001b[0m\n\u001b[1;32m     21\u001b[0m     \u001b[0mrho_0\u001b[0m \u001b[0;34m=\u001b[0m \u001b[0;34m[\u001b[0m\u001b[0;34m[\u001b[0m\u001b[0;36m0.6\u001b[0m\u001b[0;34m+\u001b[0m\u001b[0;36m0.j\u001b[0m \u001b[0;34m,\u001b[0m \u001b[0;36m0.1\u001b[0m\u001b[0;34m-\u001b[0m\u001b[0;36m0.1j\u001b[0m\u001b[0;34m]\u001b[0m\u001b[0;34m,\u001b[0m\u001b[0;34m[\u001b[0m\u001b[0;36m0.1\u001b[0m\u001b[0;34m+\u001b[0m\u001b[0;36m0.1j\u001b[0m\u001b[0;34m,\u001b[0m \u001b[0;36m0.4\u001b[0m\u001b[0;34m+\u001b[0m\u001b[0;36m0.j\u001b[0m\u001b[0;34m]\u001b[0m\u001b[0;34m]\u001b[0m\u001b[0;34m\u001b[0m\u001b[0;34m\u001b[0m\u001b[0m\n\u001b[1;32m     22\u001b[0m \u001b[0;34m\u001b[0m\u001b[0m\n\u001b[0;32m---> 23\u001b[0;31m     assert np.allclose(\n\u001b[0m\u001b[1;32m     24\u001b[0m         \u001b[0msolution_output\u001b[0m\u001b[0;34m,\u001b[0m \u001b[0mexpected_output\u001b[0m\u001b[0;34m,\u001b[0m \u001b[0matol\u001b[0m\u001b[0;34m=\u001b[0m\u001b[0;36m0.01\u001b[0m\u001b[0;34m\u001b[0m\u001b[0;34m\u001b[0m\u001b[0m\n\u001b[1;32m     25\u001b[0m     ), \"Your NP-solving timbit computer isn't quite right yet!\"\n",
      "\u001b[0;31mAssertionError\u001b[0m: Your NP-solving timbit computer isn't quite right yet!"
     ]
    }
   ],
   "source": [
    "# These functions are responsible for testing the solution.\n",
    "def run(test_case_input: str) -> str:\n",
    "\n",
    "    I = np.eye(2)\n",
    "    X = qml.matrix(qml.PauliX(0))\n",
    "\n",
    "    U_f = scipy.linalg.block_diag(I, X, I, I, I, I, I, I)\n",
    "    rho = [[0.6+0.j , 0.1-0.1j],[0.1+0.1j, 0.4+0.j]]\n",
    "\n",
    "    q = json.loads(test_case_input)\n",
    "    output = list(SAT(U_f, q, rho,4))\n",
    "\n",
    "    return str(output)\n",
    "\n",
    "def check(solution_output: str, expected_output: str) -> None:\n",
    "\n",
    "    solution_output = json.loads(solution_output)\n",
    "    expected_output = json.loads(expected_output)\n",
    "\n",
    "    rho = [[0.6+0.j , 0.1-0.1j],[0.1+0.1j, 0.4+0.j]]\n",
    "    rho_0 = [[0.6+0.j , 0.1-0.1j],[0.1+0.1j, 0.4+0.j]]\n",
    "\n",
    "    assert np.allclose(\n",
    "        solution_output, expected_output, atol=0.01\n",
    "    ), \"Your NP-solving timbit computer isn't quite right yet!\"\n",
    "\n",
    "\n",
    "test_cases = [['1', '[0.78125, 0.21875]'], ['2', '[0.65820312, 0.34179687]']]\n",
    "\n",
    "for i, (input_, expected_output) in enumerate(test_cases):\n",
    "    print(f\"Running test case {i} with input '{input_}'...\")\n",
    "\n",
    "    try:\n",
    "        output = run(input_)\n",
    "\n",
    "    except Exception as exc:\n",
    "        print(f\"Runtime Error. {exc}\")\n",
    "\n",
    "    else:\n",
    "        if message := check(output, expected_output):\n",
    "            print(f\"Wrong Answer. Have: '{output}'. Want: '{expected_output}'.\")\n",
    "\n",
    "        else:\n",
    "            print(\"Correct!\")"
   ]
  },
  {
   "cell_type": "code",
   "execution_count": 15,
   "id": "a76b45a0-2d42-4164-8002-7fb8520a9a92",
   "metadata": {},
   "outputs": [
    {
     "data": {
      "text/plain": [
       "tensor([[1, 0, 0, 0],\n",
       "        [0, 0, 1, 0],\n",
       "        [0, 0, 0, 1],\n",
       "        [0, 1, 0, 0]], requires_grad=True)"
      ]
     },
     "execution_count": 15,
     "metadata": {},
     "output_type": "execute_result"
    }
   ],
   "source": [
    "np.matmul(np.array(U_NP),np.array(U_NP))"
   ]
  },
  {
   "cell_type": "code",
   "execution_count": 2,
   "id": "3f8c7c52-9772-46e0-9ec8-27d21aa851bf",
   "metadata": {},
   "outputs": [
    {
     "data": {
      "text/plain": [
       "tensor([[1, 2],\n",
       "        [3, 4]], requires_grad=True)"
      ]
     },
     "execution_count": 2,
     "metadata": {},
     "output_type": "execute_result"
    }
   ],
   "source": [
    "a*b"
   ]
  },
  {
   "cell_type": "code",
   "execution_count": 28,
   "id": "11034c30-9e49-496a-be11-da5ea11a927a",
   "metadata": {},
   "outputs": [
    {
     "data": {
      "text/plain": [
       "3"
      ]
     },
     "execution_count": 28,
     "metadata": {},
     "output_type": "execute_result"
    }
   ],
   "source": [
    "(2-1)*2+1"
   ]
  },
  {
   "cell_type": "code",
   "execution_count": null,
   "id": "3323eb8f-7386-4fb1-916f-c37282d2959e",
   "metadata": {},
   "outputs": [],
   "source": []
  },
  {
   "cell_type": "code",
   "execution_count": null,
   "id": "7e8a8aa6-144b-4ad2-ba58-3a811a4872bf",
   "metadata": {},
   "outputs": [],
   "source": []
  }
 ],
 "metadata": {
  "kernelspec": {
   "display_name": "PennyLane",
   "language": "python",
   "name": "pennylane"
  },
  "language_info": {
   "codemirror_mode": {
    "name": "ipython",
    "version": 3
   },
   "file_extension": ".py",
   "mimetype": "text/x-python",
   "name": "python",
   "nbconvert_exporter": "python",
   "pygments_lexer": "ipython3",
   "version": "3.9.15"
  }
 },
 "nbformat": 4,
 "nbformat_minor": 5
}

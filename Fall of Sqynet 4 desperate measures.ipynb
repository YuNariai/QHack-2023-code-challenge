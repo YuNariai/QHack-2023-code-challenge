{
 "cells": [
  {
   "cell_type": "code",
   "execution_count": 1,
   "id": "a60c3ae9-9e6b-4a15-a41d-8c6e042868de",
   "metadata": {},
   "outputs": [],
   "source": [
    "import json\n",
    "import pennylane as qml\n",
    "import pennylane.numpy as np"
   ]
  },
  {
   "cell_type": "code",
   "execution_count": 60,
   "id": "ab597c11-db0d-4a65-8e11-a10cf03b5bcb",
   "metadata": {},
   "outputs": [
    {
     "data": {
      "text/plain": [
       "array([[1.+0.j, 0.+0.j, 0.+0.j, 0.+0.j],\n",
       "       [0.+0.j, 1.+0.j, 0.+0.j, 0.+0.j],\n",
       "       [0.+0.j, 0.+0.j, 1.+0.j, 0.+0.j],\n",
       "       [0.+0.j, 0.+0.j, 0.+0.j, 1.+0.j]])"
      ]
     },
     "execution_count": 60,
     "metadata": {},
     "output_type": "execute_result"
    }
   ],
   "source": [
    "def cirx():\n",
    "\n",
    "    qml.CNOT([0,1])\n",
    "    qml.RX(0.1,0)\n",
    "    qml.CNOT([0,1])\n",
    "        \n",
    "    qml.adjoint(qml.IsingXX(0.1,wires=[0,1]))\n",
    "    \n",
    "qml.matrix(cirx)()"
   ]
  },
  {
   "cell_type": "code",
   "execution_count": 6,
   "id": "03ab918b-60a9-47fe-99f7-5214442c04d6",
   "metadata": {},
   "outputs": [
    {
     "data": {
      "text/plain": [
       "array([[0.99875026+0.j        , 0.        +0.j        ,\n",
       "        0.        +0.j        , 0.        -0.04997917j],\n",
       "       [0.        +0.j        , 0.99875026+0.j        ,\n",
       "        0.        -0.04997917j, 0.        +0.j        ],\n",
       "       [0.        +0.j        , 0.        -0.04997917j,\n",
       "        0.99875026+0.j        , 0.        +0.j        ],\n",
       "       [0.        -0.04997917j, 0.        +0.j        ,\n",
       "        0.        +0.j        , 0.99875026+0.j        ]])"
      ]
     },
     "execution_count": 6,
     "metadata": {},
     "output_type": "execute_result"
    }
   ],
   "source": [
    "qml.matrix(qml.CNOT([0,1])@qml.RX(0.1,wires=0)@qml.CNOT([0,1]))"
   ]
  },
  {
   "cell_type": "code",
   "execution_count": 7,
   "id": "a9ccede6-3907-4e40-9066-afaf1604c337",
   "metadata": {},
   "outputs": [
    {
     "data": {
      "text/plain": [
       "array([[0.99875026-0.04997917j, 0.        +0.j        ,\n",
       "        0.        +0.j        , 0.        +0.j        ],\n",
       "       [0.        +0.j        , 0.99875026+0.04997917j,\n",
       "        0.        +0.j        , 0.        +0.j        ],\n",
       "       [0.        +0.j        , 0.        +0.j        ,\n",
       "        0.99875026+0.04997917j, 0.        +0.j        ],\n",
       "       [0.        +0.j        , 0.        +0.j        ,\n",
       "        0.        +0.j        , 0.99875026-0.04997917j]])"
      ]
     },
     "execution_count": 7,
     "metadata": {},
     "output_type": "execute_result"
    }
   ],
   "source": [
    "qml.matrix(qml.IsingZZ(0.1,wires=[0,1]))"
   ]
  },
  {
   "cell_type": "code",
   "execution_count": 10,
   "id": "3270b7bf-85a2-4eac-9b16-a71067a76b23",
   "metadata": {},
   "outputs": [
    {
     "data": {
      "text/plain": [
       "array([[0.99875026-0.04997917j, 0.        +0.j        ,\n",
       "        0.        +0.j        , 0.        +0.j        ],\n",
       "       [0.        +0.j        , 0.99875026+0.04997917j,\n",
       "        0.        +0.j        , 0.        +0.j        ],\n",
       "       [0.        +0.j        , 0.        +0.j        ,\n",
       "        0.99875026+0.04997917j, 0.        +0.j        ],\n",
       "       [0.        +0.j        , 0.        +0.j        ,\n",
       "        0.        +0.j        , 0.99875026-0.04997917j]])"
      ]
     },
     "execution_count": 10,
     "metadata": {},
     "output_type": "execute_result"
    }
   ],
   "source": [
    "qml.matrix(qml.CNOT([0,1])@qml.RZ(0.1,wires=1)@qml.CNOT([0,1]))"
   ]
  },
  {
   "cell_type": "code",
   "execution_count": 11,
   "id": "17b74833-7d6d-4716-9450-1e7cd0d557f9",
   "metadata": {},
   "outputs": [
    {
     "data": {
      "text/plain": [
       "array([[0.99875026+0.j        , 0.        +0.j        ,\n",
       "        0.        +0.j        , 0.        +0.04997917j],\n",
       "       [0.        +0.j        , 0.99875026+0.j        ,\n",
       "        0.        -0.04997917j, 0.        +0.j        ],\n",
       "       [0.        +0.j        , 0.        -0.04997917j,\n",
       "        0.99875026+0.j        , 0.        +0.j        ],\n",
       "       [0.        +0.04997917j, 0.        +0.j        ,\n",
       "        0.        +0.j        , 0.99875026+0.j        ]])"
      ]
     },
     "execution_count": 11,
     "metadata": {},
     "output_type": "execute_result"
    }
   ],
   "source": [
    "qml.matrix(qml.IsingYY(0.1,wires=[0,1]))"
   ]
  },
  {
   "cell_type": "code",
   "execution_count": 66,
   "id": "084bfc03-9f0e-4608-8512-b738cf6387a7",
   "metadata": {},
   "outputs": [
    {
     "data": {
      "text/plain": [
       "array([[ 1.00000000e+00-8.67000382e-19j,  0.00000000e+00+0.00000000e+00j,\n",
       "         0.00000000e+00+0.00000000e+00j, -1.73255552e-17+0.00000000e+00j],\n",
       "       [ 0.00000000e+00+0.00000000e+00j,  1.00000000e+00+0.00000000e+00j,\n",
       "         0.00000000e+00+0.00000000e+00j,  0.00000000e+00+0.00000000e+00j],\n",
       "       [ 0.00000000e+00+0.00000000e+00j,  0.00000000e+00+0.00000000e+00j,\n",
       "         1.00000000e+00+0.00000000e+00j,  0.00000000e+00+0.00000000e+00j],\n",
       "       [ 1.73255552e-17+0.00000000e+00j,  0.00000000e+00+0.00000000e+00j,\n",
       "         0.00000000e+00+0.00000000e+00j,  1.00000000e+00+8.67000382e-19j]])"
      ]
     },
     "execution_count": 66,
     "metadata": {},
     "output_type": "execute_result"
    }
   ],
   "source": [
    "def cir():\n",
    "    qml.RZ(-np.pi/2,0)\n",
    "    qml.RZ(-np.pi/2,1)\n",
    "    qml.CNOT([0,1])\n",
    "    qml.RX(0.1,0)\n",
    "    qml.CNOT([0,1])\n",
    "    qml.RZ(np.pi/2,0)\n",
    "    qml.RZ(np.pi/2,1)\n",
    "    \n",
    "    qml.adjoint(qml.IsingYY(0.1,wires=[0,1]))\n",
    "    \n",
    "qml.matrix(cir)()"
   ]
  },
  {
   "cell_type": "code",
   "execution_count": 77,
   "id": "d3d8c18d-73a5-45fe-9af6-5a1e77f4725c",
   "metadata": {},
   "outputs": [],
   "source": [
    "import json\n",
    "import pennylane as qml\n",
    "import pennylane.numpy as np\n",
    "\n",
    "num_wires = 4\n",
    "dev = qml.device(\"default.mixed\", wires=num_wires)\n",
    "\n",
    "@qml.qnode(dev)\n",
    "def heisenberg_trotter(couplings, p, time, depth):\n",
    "    \"\"\"This QNode returns the final state of the spin chain after evolution for a time t, \n",
    "    under the Trotter approximation of the exponential of the Heisenberg Hamiltonian.\n",
    "    \n",
    "    Args:\n",
    "        couplings (list(float)): \n",
    "            An array of length 4 that contains the coupling constants and the magnetic field \n",
    "            strength, in the order [J_x, J_y, J_z, h].\n",
    "        p (float): The depolarization probability after each CNOT gate.\n",
    "        depth (int): The Trotterization depth.\n",
    "        time (float): Time during which the state evolves\n",
    "\n",
    "    Returns:\n",
    "        (numpy.tensor): The evolved quantum state.\n",
    "    \"\"\"\n",
    "    # Put your code here #\n",
    "    def myXX(J_x, wires):\n",
    "        qml.CNOT(wires)\n",
    "        qml.DepolarizingChannel(p,wires[1])\n",
    "        qml.RX(J_x,wires[0])\n",
    "        qml.CNOT(wires)\n",
    "        qml.DepolarizingChannel(p,wires[1])\n",
    "        \n",
    "    def myYY(J_y, wires):\n",
    "        qml.RZ(-np.pi/2,wires[0])\n",
    "        qml.RZ(-np.pi/2,wires[1])\n",
    "        qml.CNOT(wires)\n",
    "        qml.DepolarizingChannel(p,wires[1])\n",
    "        qml.RX(J_y,wires[0])\n",
    "        qml.CNOT(wires)\n",
    "        qml.DepolarizingChannel(p,wires[1])\n",
    "        qml.RZ(np.pi/2,wires[0])\n",
    "        qml.RZ(np.pi/2,wires[1])\n",
    "        \n",
    "    def myZZ(J_z, wires):\n",
    "        qml.CNOT(wires)\n",
    "        qml.DepolarizingChannel(p,wires[1])\n",
    "        qml.RZ(J_z,wires[1])\n",
    "        qml.CNOT(wires)\n",
    "        qml.DepolarizingChannel(p,wires[1])\n",
    "        \n",
    "    Jx=couplings[0]*(-1)*2*time/depth\n",
    "    Jy=couplings[1]*(-1)*2*time/depth\n",
    "    Jz=couplings[2]*(-1)*2*time/depth\n",
    "    h=couplings[3]*(-1)*2*time/depth\n",
    "\n",
    "    for i in range(depth):\n",
    "        myXX(Jx,[0,1])\n",
    "        myXX(Jx,[1,2])\n",
    "        myXX(Jx,[2,3])\n",
    "        myXX(Jx,[3,0])\n",
    "        myYY(Jy,[0,1])\n",
    "        myYY(Jy,[1,2])\n",
    "        myYY(Jy,[2,3])\n",
    "        myYY(Jy,[3,0])\n",
    "        myZZ(Jz,[0,1])\n",
    "        myZZ(Jz,[1,2])\n",
    "        myZZ(Jz,[2,3])\n",
    "        myZZ(Jz,[3,0])\n",
    "        qml.RX(h,0)\n",
    "        qml.RX(h,1)\n",
    "        qml.RX(h,2)\n",
    "        qml.RX(h,3)\n",
    "    \n",
    "    return qml.state()\n",
    "\n",
    "\n",
    "def calculate_fidelity(couplings, p, time, depth):\n",
    "    \"\"\"This function returns the fidelity between the final states of the noisy and\n",
    "    noiseless Trotterizations of the Heisenberg models, using only CNOT and rotation gates\n",
    "\n",
    "    Args:\n",
    "        couplings (list(float)): \n",
    "            A list with the J_x, J_y, J_z and h parameters in the Heisenberg Hamiltonian, as\n",
    "            defined in the problem statement.\n",
    "        p (float): The depolarization probability of the depolarization gate that acts on the\n",
    "                   target qubit of each CNOT gate.\n",
    "        time (float): The period of time evolution simulated by the Trotterization.\n",
    "        depth (int): The Trotterization depth.\n",
    "\n",
    "    Returns:\n",
    "        (float): Fidelity between final states of the noisy and noiseless Trotterizations\n",
    "    \"\"\"\n",
    "    return qml.math.fidelity(heisenberg_trotter(couplings,0,time, depth),heisenberg_trotter(couplings,p,time,depth))\n",
    "\n",
    "\n"
   ]
  },
  {
   "cell_type": "code",
   "execution_count": 79,
   "id": "ca74be13-cb6d-4a4c-9cf1-fb368a2bd668",
   "metadata": {},
   "outputs": [
    {
     "data": {
      "text/plain": [
       "0.33723981062939895"
      ]
     },
     "execution_count": 79,
     "metadata": {},
     "output_type": "execute_result"
    }
   ],
   "source": [
    "calculate_fidelity([1,2,1,0.3],0.05,2.5,1)"
   ]
  },
  {
   "cell_type": "code",
   "execution_count": null,
   "id": "99f7d4a0-3392-4171-abb0-764e9af42927",
   "metadata": {},
   "outputs": [],
   "source": [
    "# These functions are responsible for testing the solution.\n",
    "def run(test_case_input: str) -> str:\n",
    "\n",
    "    ins = json.loads(test_case_input)\n",
    "    output =calculate_fidelity(*ins)\n",
    "\n",
    "    return str(output)\n",
    "\n",
    "def check(solution_output: str, expected_output: str) -> None:\n",
    "    \"\"\"\n",
    "    Compare solution with expected.\n",
    "\n",
    "    Args:\n",
    "            solution_output: The output from an evaluated solution. Will be\n",
    "            the same type as returned.\n",
    "            expected_output: The correct result for the test case.\n",
    "\n",
    "    Raises: \n",
    "            ``AssertionError`` if the solution output is incorrect in any way.\n",
    "            \n",
    "    \"\"\"\n",
    "    def create_hamiltonian(params):\n",
    "\n",
    "        couplings = [-params[-1]]\n",
    "        ops = [qml.PauliX(3)]\n",
    "\n",
    "        for i in range(3):\n",
    "\n",
    "            couplings = [-params[-1]] + couplings\n",
    "            ops = [qml.PauliX(i)] + ops        \n",
    "\n",
    "        for i in range(4):\n",
    "\n",
    "            couplings = [-params[-2]] + couplings\n",
    "            ops = [qml.PauliZ(i)@qml.PauliZ((i+1)%4)] + ops\n",
    "\n",
    "        for i in range(4):\n",
    "\n",
    "            couplings = [-params[-3]] + couplings\n",
    "            ops = [qml.PauliY(i)@qml.PauliY((i+1)%4)] + ops\n",
    "\n",
    "        for i in range(4):\n",
    "\n",
    "            couplings = [-params[0]] + couplings\n",
    "            ops = [qml.PauliX(i)@qml.PauliX((i+1)%4)] + ops    \n",
    "\n",
    "        return qml.Hamiltonian(couplings,ops)\n",
    "\n",
    "    @qml.qnode(dev)\n",
    "    def evolve(params, time, depth):\n",
    "\n",
    "        qml.ApproxTimeEvolution(create_hamiltonian(params), time, depth)\n",
    "\n",
    "        return qml.state()\n",
    "    \n",
    "    solution_output = json.loads(solution_output)\n",
    "    expected_output = json.loads(expected_output)\n",
    "    \n",
    "    tape = heisenberg_trotter.qtape\n",
    "    names = [op.name for op in tape.operations]\n",
    "    \n",
    "    random_params = np.random.uniform(low = 0.8, high = 3.0, size = (4,) )\n",
    "    \n",
    "    assert qml.math.fidelity(heisenberg_trotter(random_params,0,1,2),evolve(random_params,1,2)) >= 1, \"Your circuit does not Trotterize the Heisenberg Model\"\n",
    "    \n",
    "    assert names.count('ApproxTimeEvolution') == 0, \"Your circuit must not use the built-in PennyLane Trotterization\"\n",
    "     \n",
    "    assert set(names) == {'DepolarizingChannel', 'RX', 'RY', 'RZ', 'CNOT'}, \"Your circuit must only use RX, RY, RZ, CNOT, and depolarizing gates (don't use qml.Rot or Paulis)\"\n",
    "    \n",
    "    assert solution_output >= expected_output-0.005, \"Your fidelity is not high enough. You may be using more CNOT gates than needed\"\n",
    "\n",
    "\n",
    "test_cases = [['[[1,2,1,0.3],0.05,2.5,1]', '0.33723981123369573'], ['[[1,3,2,0.3],0.05,2.5,2]', '0.15411351752086694']]\n",
    "\n",
    "for i, (input_, expected_output) in enumerate(test_cases):\n",
    "    print(f\"Running test case {i} with input '{input_}'...\")\n",
    "\n",
    "    try:\n",
    "        output = run(input_)\n",
    "\n",
    "    except Exception as exc:\n",
    "        print(f\"Runtime Error. {exc}\")\n",
    "\n",
    "    else:\n",
    "        if message := check(output, expected_output):\n",
    "            print(f\"Wrong Answer. Have: '{output}'. Want: '{expected_output}'.\")\n",
    "\n",
    "        else:\n",
    "            print(\"Correct!\")"
   ]
  },
  {
   "cell_type": "code",
   "execution_count": null,
   "id": "bba120f1-50f1-48a2-a6fd-4fa5c7b258d4",
   "metadata": {},
   "outputs": [],
   "source": []
  }
 ],
 "metadata": {
  "kernelspec": {
   "display_name": "PennyLane",
   "language": "python",
   "name": "pennylane"
  },
  "language_info": {
   "codemirror_mode": {
    "name": "ipython",
    "version": 3
   },
   "file_extension": ".py",
   "mimetype": "text/x-python",
   "name": "python",
   "nbconvert_exporter": "python",
   "pygments_lexer": "ipython3",
   "version": "3.9.15"
  }
 },
 "nbformat": 4,
 "nbformat_minor": 5
}

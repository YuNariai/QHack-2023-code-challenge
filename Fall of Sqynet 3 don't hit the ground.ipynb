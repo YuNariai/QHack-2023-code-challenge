{
 "cells": [
  {
   "cell_type": "code",
   "execution_count": 3,
   "id": "01929b72-7e60-4441-b8ce-1b44300fc749",
   "metadata": {},
   "outputs": [],
   "source": [
    "import json\n",
    "import pennylane as qml\n",
    "import pennylane.numpy as np\n",
    "\n",
    "def half_life(gamma, p):\n",
    "    \"\"\"Calculates the relaxation half-life of a quantum system that exchanges energy with its environment.\n",
    "    This process is modeled via Generalized Amplitude Damping.\n",
    "\n",
    "    Args:\n",
    "        gamma (float): \n",
    "            The probability per unit time of the system losing a quantum of energy\n",
    "            to the environment.\n",
    "        p (float): The de-excitation probability due to environmental effect\n",
    "\n",
    "    Returns:\n",
    "        (float): The relaxation haf-life of the system, as explained in the problem statement.\n",
    "    \"\"\"\n",
    "\n",
    "    num_wires = 1\n",
    "\n",
    "    dev = qml.device(\"default.mixed\", wires=num_wires)\n",
    "\n",
    "\n",
    "    # Feel free to write helper functions or global variables here\n",
    "\n",
    "    @qml.qnode(dev)\n",
    "    def noise(\n",
    "        gamma, p, time_total, t_step\n",
    "    ):\n",
    "        \"\"\"Implement the sequence of Generalized Amplitude Damping channels in this QNode\n",
    "        You may pass instead of return if you solved this problem analytically, it's possible!\n",
    "\n",
    "        Args:\n",
    "            gamma (float): The probability per unit time of the system losing a quantum of energy\n",
    "            to the environment.\n",
    "        \n",
    "        Returns:\n",
    "            (float): The relaxation half-life.\n",
    "        \"\"\"\n",
    "        # Don't forget to initialize the state\n",
    "        qml.Hadamard(0)\n",
    "        # Put your code here #\n",
    "        N = int(time_total/t_step)\n",
    "        for i in range(N):\n",
    "            qml.GeneralizedAmplitudeDamping(gamma*t_step, p, wires=0)\n",
    "        # Return something or pass if you solved this analytically!\n",
    "        return qml.probs(wires=0)\n",
    "    # Write any subroutines you may need to find the relaxation time here\n",
    "    time = 5.\n",
    "    while noise(gamma, p, time, 0.2)[1]>0.25:\n",
    "        time += 0.2\n",
    "\n",
    "    # Return the relaxation half-life\n",
    "    return time\n",
    "\n"
   ]
  },
  {
   "cell_type": "code",
   "execution_count": 5,
   "id": "1fa1efeb-a71c-4a1e-81c0-2089374005a4",
   "metadata": {},
   "outputs": [
    {
     "data": {
      "text/plain": [
       "7.000000000000002"
      ]
     },
     "execution_count": 5,
     "metadata": {},
     "output_type": "execute_result"
    }
   ],
   "source": [
    "half_life(0.2,0.83)"
   ]
  },
  {
   "cell_type": "code",
   "execution_count": null,
   "id": "1fdf2364-1995-4c2e-be4e-d4fa77344f51",
   "metadata": {},
   "outputs": [],
   "source": [
    "\n",
    "# These functions are responsible for testing the solution.\n",
    "def run(test_case_input: str) -> str:\n",
    "\n",
    "    ins = json.loads(test_case_input)\n",
    "    output = half_life(*ins)\n",
    "\n",
    "    return str(output)\n",
    "\n",
    "def check(solution_output: str, expected_output: str) -> None:\n",
    "    solution_output = json.loads(solution_output)\n",
    "    expected_output = json.loads(expected_output)\n",
    "    assert np.allclose(\n",
    "        solution_output, expected_output, atol=2e-1\n",
    "    ), \"The relaxation half-life is not quite right.\"\n",
    "\n",
    "\n",
    "test_cases = [['[0.1,0.92]', '9.05'], ['[0.2,0.83]', '7.09']]\n",
    "\n",
    "for i, (input_, expected_output) in enumerate(test_cases):\n",
    "    print(f\"Running test case {i} with input '{input_}'...\")\n",
    "\n",
    "    try:\n",
    "        output = run(input_)\n",
    "\n",
    "    except Exception as exc:\n",
    "        print(f\"Runtime Error. {exc}\")\n",
    "\n",
    "    else:\n",
    "        if message := check(output, expected_output):\n",
    "            print(f\"Wrong Answer. Have: '{output}'. Want: '{expected_output}'.\")\n",
    "\n",
    "        else:\n",
    "            print(\"Correct!\")"
   ]
  }
 ],
 "metadata": {
  "kernelspec": {
   "display_name": "PennyLane",
   "language": "python",
   "name": "pennylane"
  },
  "language_info": {
   "codemirror_mode": {
    "name": "ipython",
    "version": 3
   },
   "file_extension": ".py",
   "mimetype": "text/x-python",
   "name": "python",
   "nbconvert_exporter": "python",
   "pygments_lexer": "ipython3",
   "version": "3.9.15"
  }
 },
 "nbformat": 4,
 "nbformat_minor": 5
}

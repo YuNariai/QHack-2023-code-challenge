{
 "cells": [
  {
   "cell_type": "code",
   "execution_count": 6,
   "id": "e000f6cd-05a6-46ad-96e5-48a0d31bd1de",
   "metadata": {},
   "outputs": [],
   "source": [
    "import json\n",
    "import pennylane as qml\n",
    "import pennylane.numpy as np\n",
    "\n",
    "def U_psi(theta):\n",
    "    \"\"\"\n",
    "    Quantum function that generates |psi>, Zenda's state wants to send to Reece.\n",
    "\n",
    "    Args:\n",
    "        theta (float): Parameter that generates the state.\n",
    "\n",
    "    \"\"\"\n",
    "    qml.Hadamard(wires = 0)\n",
    "    qml.CRX(theta, wires = [0,1])\n",
    "    qml.CRZ(theta, wires = [0,1])\n",
    "\n",
    "def is_unsafe(alpha, beta, epsilon):\n",
    "    \"\"\"\n",
    "    Boolean function that we will use to know if a set of parameters is unsafe.\n",
    "\n",
    "    Args:\n",
    "        alpha (float): parameter used to encode the state.\n",
    "        beta (float): parameter used to encode the state.\n",
    "        epsilon (float): unsafe-tolerance.\n",
    "\n",
    "    Returns:\n",
    "        (bool): 'True' if alpha and beta are epsilon-unsafe coefficients. 'False' in the other case.\n",
    "\n",
    "    \"\"\"\n",
    "\n",
    "\n",
    "    # Put your code here #\n",
    "    \n",
    "    def unsafe(theta):\n",
    "        dev = qml.device(\"default.qubit\", wires=2)\n",
    "        @qml.qnode(dev)\n",
    "        \n",
    "        def circuit():\n",
    "            U_psi(theta)\n",
    "            qml.RZ(alpha,0)\n",
    "            qml.RZ(alpha,1)\n",
    "            qml.RX(beta,0)\n",
    "            qml.RX(beta,1)\n",
    "            qml.adjoint(U_psi)(theta)\n",
    "            return qml.probs([0,1])\n",
    "        return circuit()[0]\n",
    "        \n",
    "    \n",
    "    theta_list = np.linspace(0, 2*np.pi, 200)\n",
    "\n",
    "    for theta in theta_list:\n",
    "        if unsafe(theta) >= (1-epsilon):\n",
    "            pass\n",
    "            return True\n",
    "    return False\n",
    "        \n",
    "            \n",
    "        \n"
   ]
  },
  {
   "cell_type": "code",
   "execution_count": 7,
   "id": "9ffe63d9-8e49-4583-9e51-c9666661abd9",
   "metadata": {},
   "outputs": [
    {
     "name": "stdout",
     "output_type": "stream",
     "text": [
      "0.5367545237289094\n"
     ]
    },
    {
     "data": {
      "text/plain": [
       "True"
      ]
     },
     "execution_count": 7,
     "metadata": {},
     "output_type": "execute_result"
    }
   ],
   "source": [
    "is_unsafe(1.1, 1.2, 0.4)"
   ]
  },
  {
   "cell_type": "code",
   "execution_count": 5,
   "id": "759dd94b-209e-4ea8-99c9-a0d349a3533b",
   "metadata": {},
   "outputs": [
    {
     "name": "stdout",
     "output_type": "stream",
     "text": [
      "Running test case 0 with input '[0.1, 0.2, 0.3]'...\n",
      "Correct!\n",
      "Running test case 1 with input '[1.1, 1.2, 0.3]'...\n",
      "Correct!\n",
      "Running test case 2 with input '[1.1, 1.2, 0.4]'...\n",
      "Correct!\n",
      "Running test case 3 with input '[0.5, 1.9, 0.7]'...\n",
      "Correct!\n"
     ]
    }
   ],
   "source": [
    "\n",
    "# These functions are responsible for testing the solution.\n",
    "def run(test_case_input: str) -> str:\n",
    "    ins = json.loads(test_case_input)\n",
    "    output = is_unsafe(*ins)\n",
    "    return str(output)\n",
    "\n",
    "def check(solution_output: str, expected_output: str) -> None:\n",
    "    \n",
    "    def bool_to_int(string):\n",
    "        if string == \"True\":\n",
    "            return 1\n",
    "        return 0\n",
    "\n",
    "    solution_output = bool_to_int(solution_output)\n",
    "    expected_output = bool_to_int(expected_output)\n",
    "    assert solution_output == expected_output, \"The solution is not correct.\"\n",
    "\n",
    "\n",
    "test_cases = [['[0.1, 0.2, 0.3]', 'True'], ['[1.1, 1.2, 0.3]', 'False'], ['[1.1, 1.2, 0.4]', 'True'], ['[0.5, 1.9, 0.7]', 'True']]\n",
    "\n",
    "for i, (input_, expected_output) in enumerate(test_cases):\n",
    "    print(f\"Running test case {i} with input '{input_}'...\")\n",
    "\n",
    "    try:\n",
    "        output = run(input_)\n",
    "\n",
    "    except Exception as exc:\n",
    "        print(f\"Runtime Error. {exc}\")\n",
    "\n",
    "    else:\n",
    "        if message := check(output, expected_output):\n",
    "            print(f\"Wrong Answer. Have: '{output}'. Want: '{expected_output}'.\")\n",
    "\n",
    "        else:\n",
    "            print(\"Correct!\")"
   ]
  },
  {
   "cell_type": "code",
   "execution_count": null,
   "id": "066d1b98-2621-43de-9c2c-24bb171e985f",
   "metadata": {},
   "outputs": [],
   "source": []
  }
 ],
 "metadata": {
  "kernelspec": {
   "display_name": "PennyLane",
   "language": "python",
   "name": "pennylane"
  },
  "language_info": {
   "codemirror_mode": {
    "name": "ipython",
    "version": 3
   },
   "file_extension": ".py",
   "mimetype": "text/x-python",
   "name": "python",
   "nbconvert_exporter": "python",
   "pygments_lexer": "ipython3",
   "version": "3.9.15"
  }
 },
 "nbformat": 4,
 "nbformat_minor": 5
}
